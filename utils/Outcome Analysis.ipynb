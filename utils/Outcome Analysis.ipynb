{
 "cells": [
  {
   "cell_type": "markdown",
   "metadata": {},
   "source": [
    "## Imports"
   ]
  },
  {
   "cell_type": "code",
   "execution_count": 1,
   "metadata": {
    "collapsed": true
   },
   "outputs": [],
   "source": [
    "# for loading the data\n",
    "import cookielib\n",
    "import urllib\n",
    "import urllib2\n",
    "import getpass\n",
    "import sys\n",
    "import json\n",
    "# standard imports\n",
    "from collections import defaultdict, OrderedDict\n",
    "from copy import deepcopy\n",
    "import math\n",
    "# third party packages\n",
    "import numpy as np"
   ]
  },
  {
   "cell_type": "markdown",
   "metadata": {},
   "source": [
    "## Load Data"
   ]
  },
  {
   "cell_type": "code",
   "execution_count": 2,
   "metadata": {
    "collapsed": false
   },
   "outputs": [
    {
     "name": "stdout",
     "output_type": "stream",
     "text": [
      "Please enter credentials for P.A.W.S.\n",
      "Userame: ········\n",
      "Password: ········\n",
      "\n",
      "Loaded data with num_dogs = 124\n"
     ]
    }
   ],
   "source": [
    "HOST = \"https://working-dog-data-dash.appspot.com\"\n",
    "\n",
    "def create_opener():\n",
    "    \"\"\"creates a urllib2.OpenerDirector with a CookieJar\"\"\"\n",
    "    cj = cookielib.CookieJar()\n",
    "    opener = urllib2.build_opener(urllib2.HTTPCookieProcessor(cj))\n",
    "    return opener\n",
    "\n",
    "def login(opener):\n",
    "    \"\"\"prompts the cli user for login credentials to P.A.W.S.\n",
    "     then sends a login request to the real server using opener.\n",
    "\n",
    "    Arguments:\n",
    "        opener - a urllib2.OpenerDirector, this should have a cookier jar.\n",
    "    \"\"\"\n",
    "    login_url = HOST + \"/login\"\n",
    "    print(\"Please enter credentials for P.A.W.S.\")\n",
    "    user = getpass.getpass(\"Userame: \")\n",
    "    password = getpass.getpass(\"Password: \")\n",
    "    form_data = {\"username\": user, \"password\": password}\n",
    "    params = urllib.urlencode(form_data)\n",
    "    response = opener.open(login_url, data=params)\n",
    "    code = response.getcode()\n",
    "    if code != 200:\n",
    "        raise Exception(\"Failed to login!\")\n",
    "\n",
    "# login to backend service\n",
    "opener = create_opener()\n",
    "login(opener)\n",
    "\n",
    "# fetch data from server\n",
    "url = HOST + \"/api/cached/data/filtered/blob\"\n",
    "response = opener.open(url)\n",
    "\n",
    "# read and check result\n",
    "raw = response.read()\n",
    "if raw[0] != '{':\n",
    "    raise Exception(\"Failed to load!\")\n",
    "\n",
    "# parse the JSON\n",
    "# NOTE: we have no floats\n",
    "# The data format is at:\n",
    "# https://github.com/ChelsiAlise/workingdogdatadash/blob/master/data.go\n",
    "blob = json.loads(raw, parse_int=int, parse_float=int)\n",
    "\n",
    "# Debug loaded data\n",
    "num_dogs = len(blob[\"dogs\"])\n",
    "print \"\"\n",
    "print \"Loaded data with num_dogs = %d\" % (num_dogs)"
   ]
  },
  {
   "cell_type": "markdown",
   "metadata": {},
   "source": [
    "## Clean Data"
   ]
  },
  {
   "cell_type": "code",
   "execution_count": 3,
   "metadata": {
    "collapsed": false
   },
   "outputs": [],
   "source": [
    "# define small common utilities\n",
    "def print_bar():\n",
    "    print \"-\"*70"
   ]
  },
  {
   "cell_type": "code",
   "execution_count": 4,
   "metadata": {
    "collapsed": false
   },
   "outputs": [
    {
     "name": "stdout",
     "output_type": "stream",
     "text": [
      "Number of days (filtered to 70% of a day) least to most:\n",
      "----------------------------------------------------------------------\n",
      "[27, 39, 39, 44, 45, 48, 50, 57, 62, 69, 71, 77, 83, 84, 85, 86, 87, 91, 100, 127, 140, 143, 145, 161, 175, 206, 221, 227, 230, 234, 252, 256, 260, 265, 283, 300, 301, 302, 319, 328, 337, 338, 342, 346, 361, 362, 364, 366, 366, 373, 374, 377, 380, 384, 399, 401, 404, 415, 422, 447, 448, 451, 456, 465, 470, 478, 479, 480, 484, 484, 485, 488, 493, 495, 498, 500, 502, 503, 503, 504, 509, 510, 513, 517, 520, 528, 529, 533, 533, 534, 534, 536, 539, 539, 541, 549, 558, 561, 564, 567, 576, 596, 600, 603, 606, 608, 617, 619, 619, 619, 629, 634, 636, 643, 644, 647, 649, 649, 652, 671, 673, 674, 678, 681]\n"
     ]
    }
   ],
   "source": [
    "# make dict of data by dog id\n",
    "dogs = {}\n",
    "for dog in blob[\"dogs\"]:\n",
    "    id = dog[\"id\"]\n",
    "    dogs[id] = dog\n",
    "    dogs[id][\"days\"] = []\n",
    "\n",
    "# copy day info to dogs\n",
    "for day in blob[\"days\"]:\n",
    "    date = day[\"date\"]\n",
    "    for day_data in day[\"dogs\"]:\n",
    "        id = day_data[\"id\"]\n",
    "        dogs[id][\"days\"].append(day_data)\n",
    "        dogs[id][\"days\"][-1][\"date\"] = date\n",
    "\n",
    "print \"Number of days (filtered to 70% of a day) least to most:\"\n",
    "print_bar()\n",
    "print sorted([len(dogs[id][\"days\"]) for id in dogs])"
   ]
  },
  {
   "cell_type": "code",
   "execution_count": 5,
   "metadata": {
    "collapsed": false
   },
   "outputs": [
    {
     "name": "stdout",
     "output_type": "stream",
     "text": [
      "Minute Totals:\n",
      "----------------------------------------------------------------------\n",
      "      Mean: 560912.879032 (mins), 389.522833 (days),  55.646119 (weeks)\n",
      "   Std-Dev: 274515.776789 (mins), 190.635956 (days),  27.233708 (weeks)\n",
      "Bottom 10%: 116940.000000 (mins),  81.000000 (days),  11.000000 (weeks)\n",
      "Mean - Std: 286397.102243 (mins), 198.886877 (days),  28.412411 (weeks)\n",
      "----------------------------------------------------------------------\n"
     ]
    }
   ],
   "source": [
    "DAY_MINS = 1440\n",
    "\n",
    "# get and sort all totals for analysis\n",
    "totals = sorted([dog[\"total\"] for dog in blob[\"dogs\"]])\n",
    "print \"Minute Totals:\"\n",
    "print_bar()\n",
    "total_mean = np.mean(totals)\n",
    "total_std = np.std(totals)\n",
    "total_ten_pct = totals[int(len(totals)*.1)]\n",
    "# print helper\n",
    "def print_value_days_weeks(name, value):\n",
    "    print \"%10s: %10f (mins), %10f (days), %10f (weeks)\" %\\\n",
    "        (name, value, value/DAY_MINS, value/DAY_MINS/7)\n",
    "print_value_days_weeks(\"Mean\", total_mean)\n",
    "print_value_days_weeks(\"Std-Dev\", total_std)\n",
    "print_value_days_weeks(\"Bottom 10%\", total_ten_pct)\n",
    "print_value_days_weeks(\"Mean - Std\", total_mean - total_std)\n",
    "print_bar()"
   ]
  },
  {
   "cell_type": "code",
   "execution_count": 6,
   "metadata": {
    "collapsed": false
   },
   "outputs": [
    {
     "name": "stdout",
     "output_type": "stream",
     "text": [
      "Number of dogs below threshold: 25\n",
      "      Number of remaining dogs: 99\n",
      "----------------------------------------------------------------------\n",
      "Outcome:   'Active Breeder'   =>   4 dogs removed.\n",
      "Outcome:    'Unkown Status'   =>   7 dogs removed.\n",
      "Outcome:  'Active Grad Dog'   =>   8 dogs removed.\n",
      "Outcome:     'Released Dog'   =>   6 dogs removed.\n"
     ]
    }
   ],
   "source": [
    "# filter to have at least 1/2 year of valid days\n",
    "total_threshold = 26 * 7\n",
    "\n",
    "filtered_dogs = {}\n",
    "removed_dogs_by_outcome = defaultdict(list)\n",
    "for k, v in dogs.iteritems():\n",
    "    if len(v[\"days\"]) >= total_threshold:\n",
    "        filtered_dogs[k] = deepcopy(v)\n",
    "    else:\n",
    "        status = v[\"dog_status\"]\n",
    "        if not status: status = \"Unkown Status\"\n",
    "        removed_dogs_by_outcome[status].append(v)\n",
    "\n",
    "num_below_threshold = len(dogs) - len(filtered_dogs)\n",
    "\n",
    "print \"Number of dogs below threshold: %d\" % (num_below_threshold)\n",
    "print \"      Number of remaining dogs: %d\" % (len(filtered_dogs))\n",
    "\n",
    "print_bar()\n",
    "\n",
    "for k, v in removed_dogs_by_outcome.iteritems():\n",
    "    print \"Outcome: %18s   => %3d dogs removed.\" % (\"'\"+k+\"'\", len(v))"
   ]
  },
  {
   "cell_type": "markdown",
   "metadata": {},
   "source": [
    "## Analyze Data"
   ]
  },
  {
   "cell_type": "code",
   "execution_count": 8,
   "metadata": {
    "collapsed": false
   },
   "outputs": [
    {
     "name": "stdout",
     "output_type": "stream",
     "text": [
      "Outcomes:\n",
      "----------------------------------------------------------------------\n",
      "     Outcome:  Active Breeder\n",
      "    num_dogs:   6.000000\n",
      " active_mean:   6.526844\n",
      "  active_std:   0.952408\n",
      "  awake_mean:  32.026897\n",
      "   awake_std:   1.896043\n",
      "   rest_mean:  61.446259\n",
      "    rest_std:   1.611735\n",
      "----------------------------------------------------------------------\n",
      "     Outcome:  Active Grad Dog\n",
      "    num_dogs:  44.000000\n",
      " active_mean:   6.780170\n",
      "  active_std:   2.070600\n",
      "  awake_mean:  31.895558\n",
      "   awake_std:   2.712022\n",
      "   rest_mean:  61.324272\n",
      "    rest_std:   3.603033\n",
      "----------------------------------------------------------------------\n",
      "     Outcome:  Advanced Training\n",
      "    num_dogs:   5.000000\n",
      " active_mean:   6.828395\n",
      "  active_std:   0.732784\n",
      "  awake_mean:  31.230064\n",
      "   awake_std:   2.429241\n",
      "   rest_mean:  61.941541\n",
      "    rest_std:   2.831610\n",
      "----------------------------------------------------------------------\n",
      "     Outcome:  Released Dog\n",
      "    num_dogs:  38.000000\n",
      " active_mean:   6.627658\n",
      "  active_std:   2.024106\n",
      "  awake_mean:  32.229646\n",
      "   awake_std:   2.940449\n",
      "   rest_mean:  61.142695\n",
      "    rest_std:   3.413751\n",
      "----------------------------------------------------------------------\n",
      "     Outcome:  Unknown Status\n",
      "    num_dogs:   6.000000\n",
      " active_mean:   8.225345\n",
      "  active_std:   2.587196\n",
      "  awake_mean:  31.797594\n",
      "   awake_std:   3.820822\n",
      "   rest_mean:  59.977061\n",
      "    rest_std:   6.055057\n",
      "----------------------------------------------------------------------\n"
     ]
    }
   ],
   "source": [
    "# first put the dog data into buckets by outcome\n",
    "dogs_by_outcome = defaultdict(list)\n",
    "for dog in filtered_dogs.itervalues():\n",
    "    status = dog[\"dog_status\"]\n",
    "    if status == \"\":\n",
    "        status = \"Unknown Status\"\n",
    "    dogs_by_outcome[status].append(dog)\n",
    "\n",
    "# create alphabetically sorted set of possible outcomes\n",
    "outcomes = sorted(dogs_by_outcome.keys())\n",
    "\n",
    "print \"Outcomes:\"\n",
    "print_bar()\n",
    "\n",
    "# analyze dogs by outcome\n",
    "results_by_outcome = {}\n",
    "for outcome in outcomes:\n",
    "    results = OrderedDict()\n",
    "    results[\"outcome\"] = outcome,\n",
    "    results[\"dogs\"] = []\n",
    "    # convert to percentages instead of totals\n",
    "    for dog in dogs_by_outcome[outcome]:\n",
    "        result = deepcopy(dog)\n",
    "        total = dog[\"total\"]\n",
    "        result[\"active_total\"] = dog[\"active\"]\n",
    "        result[\"active\"] = float(result[\"active_total\"]) / total * 100\n",
    "        result[\"rest_total\"] = dog[\"rest\"]\n",
    "        result[\"rest\"] = float(result[\"rest\"]) / total * 100\n",
    "        result[\"awake_total\"] = dog[\"awake\"]\n",
    "        result[\"awake\"] = float(result[\"awake_total\"]) / total * 100\n",
    "        results[\"dogs\"].append(result)\n",
    "    # compute means over outcome\n",
    "    active = [v[\"active\"] for v in results[\"dogs\"]]\n",
    "    awake = [v[\"awake\"] for v in results[\"dogs\"]]\n",
    "    rest = [v[\"rest\"] for v in results[\"dogs\"]]\n",
    "    results[\"num_dogs\"] = len(active)\n",
    "    results[\"active_mean\"] = np.mean(active)\n",
    "    results[\"active_std\"] = np.std(active)\n",
    "    results[\"awake_mean\"] = np.mean(awake)\n",
    "    results[\"awake_std\"] = np.std(awake)\n",
    "    results[\"rest_mean\"] = np.mean(rest)\n",
    "    results[\"rest_std\"] = np.std(rest)\n",
    "    # print results for outcome\n",
    "    print \"     Outcome:  \" + outcome\n",
    "    for key in results.keys():\n",
    "        if key not in [\"dogs\", \"outcome\"]:\n",
    "            print \"%12s: %10f\" % (key, results[key])\n",
    "    print_bar()\n",
    "    results_by_outcome[outcome] = results\n"
   ]
  },
  {
   "cell_type": "code",
   "execution_count": null,
   "metadata": {
    "collapsed": true
   },
   "outputs": [],
   "source": []
  }
 ],
 "metadata": {
  "kernelspec": {
   "display_name": "Python 2",
   "language": "python",
   "name": "python2"
  },
  "language_info": {
   "codemirror_mode": {
    "name": "ipython",
    "version": 2
   },
   "file_extension": ".py",
   "mimetype": "text/x-python",
   "name": "python",
   "nbconvert_exporter": "python",
   "pygments_lexer": "ipython2",
   "version": "2.7.11"
  }
 },
 "nbformat": 4,
 "nbformat_minor": 2
}
