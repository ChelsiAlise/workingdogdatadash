{
 "cells": [
  {
   "cell_type": "markdown",
   "metadata": {
    "deletable": true,
    "editable": true
   },
   "source": [
    "## Imports"
   ]
  },
  {
   "cell_type": "code",
   "execution_count": 1,
   "metadata": {
    "collapsed": false,
    "deletable": true,
    "editable": true
   },
   "outputs": [],
   "source": [
    "# for loading the data\n",
    "import cookielib\n",
    "import urllib\n",
    "import urllib2\n",
    "import getpass\n",
    "import sys\n",
    "import json\n",
    "# standard imports\n",
    "from collections import defaultdict, OrderedDict\n",
    "from copy import deepcopy\n",
    "import math\n",
    "# third party packages\n",
    "import numpy as np\n",
    "from scipy.cluster.vq import kmeans, kmeans2, vq, whiten\n",
    "import matplotlib.pyplot as plt\n",
    "\n",
    "from scipy.special import stdtr\n",
    "#%matplotlib notebook #remove for jed\n",
    "#figsize(15, 9)\n",
    "#matplotlib.rc(\"savefig\", dpi=600)\n",
    "# make plots zoom-able\n",
    "\n",
    "#import mpld3 #remove for jed\n",
    "#mpld3.enable_notebook() #remove for jed"
   ]
  },
  {
   "cell_type": "markdown",
   "metadata": {
    "deletable": true,
    "editable": true
   },
   "source": [
    "## Load Data"
   ]
  },
  {
   "cell_type": "code",
   "execution_count": 2,
   "metadata": {
    "collapsed": false,
    "deletable": true,
    "editable": true
   },
   "outputs": [
    {
     "name": "stdout",
     "output_type": "stream",
     "text": [
      "Please enter credentials for P.A.W.S.\n",
      "Userame: ········\n",
      "Password: ········\n",
      "\n",
      "Loaded data with num_dogs = 124\n"
     ]
    }
   ],
   "source": [
    "HOST = \"https://working-dog-data-dash.appspot.com\"\n",
    "\n",
    "def create_opener():\n",
    "    \"\"\"creates a urllib2.OpenerDirector with a CookieJar\"\"\"\n",
    "    cj = cookielib.CookieJar()\n",
    "    opener = urllib2.build_opener(urllib2.HTTPCookieProcessor(cj))\n",
    "    return opener\n",
    "\n",
    "def login(opener):\n",
    "    \"\"\"prompts the cli user for login credentials to P.A.W.S.\n",
    "     then sends a login request to the real server using opener.\n",
    "\n",
    "    Arguments:\n",
    "        opener - a urllib2.OpenerDirector, this should have a cookier jar.\n",
    "    \"\"\"\n",
    "    login_url = HOST + \"/login\"\n",
    "    print(\"Please enter credentials for P.A.W.S.\")\n",
    "    user = getpass.getpass(\"Userame: \")\n",
    "    password = getpass.getpass(\"Password: \")\n",
    "    form_data = {\"username\": user, \"password\": password}\n",
    "    params = urllib.urlencode(form_data)\n",
    "    response = opener.open(login_url, data=params)\n",
    "    code = response.getcode()\n",
    "    if code != 200:\n",
    "        raise Exception(\"Failed to login!\")\n",
    "\n",
    "# login to backend service\n",
    "opener = create_opener()\n",
    "login(opener)\n",
    "\n",
    "# fetch data from server\n",
    "url = HOST + \"/api/cached/data/blob\"\n",
    "response = opener.open(url)\n",
    "\n",
    "# read and check result\n",
    "raw = response.read()\n",
    "if raw[0] != '{':\n",
    "    raise Exception(\"Failed to load!\")\n",
    "\n",
    "# parse the JSON\n",
    "# NOTE: we have no floats\n",
    "# The data format is at:\n",
    "# https://github.com/ChelsiAlise/workingdogdatadash/blob/master/data.go\n",
    "blob = json.loads(raw, parse_int=int, parse_float=int)\n",
    "\n",
    "# Debug loaded data\n",
    "num_dogs = len(blob[\"dogs\"])\n",
    "print \"\"\n",
    "print \"Loaded data with num_dogs = %d\" % (num_dogs)"
   ]
  },
  {
   "cell_type": "markdown",
   "metadata": {
    "deletable": true,
    "editable": true
   },
   "source": [
    "## Clean Data"
   ]
  },
  {
   "cell_type": "code",
   "execution_count": 3,
   "metadata": {
    "collapsed": false,
    "deletable": true,
    "editable": true
   },
   "outputs": [],
   "source": [
    "# define small common utilities\n",
    "def print_bar():\n",
    "    print \"-\"*70\n",
    "\n",
    "# define constants\n",
    "DAY_MINS = 1440"
   ]
  },
  {
   "cell_type": "code",
   "execution_count": 4,
   "metadata": {
    "collapsed": false,
    "deletable": true,
    "editable": true
   },
   "outputs": [
    {
     "name": "stdout",
     "output_type": "stream",
     "text": [
      "Filtering to contain at least 1080 mins (~75%).\n",
      "\n",
      "Average days removed: 42\n",
      "Number of days after filtering least to most:\n",
      "----------------------------------------------------------------------\n",
      "[26, 37, 37, 43, 44, 48, 48, 57, 59, 65, 68, 68, 81, 81, 84, 84, 87, 89, 97, 126, 138, 141, 144, 159, 171, 190, 218, 227, 229, 229, 249, 254, 259, 261, 274, 297, 299, 299, 315, 319, 334, 335, 338, 343, 353, 355, 356, 360, 361, 364, 365, 369, 376, 377, 392, 393, 398, 408, 409, 421, 436, 440, 441, 450, 459, 460, 460, 466, 474, 477, 480, 481, 482, 483, 490, 491, 493, 495, 497, 499, 499, 499, 502, 504, 506, 509, 513, 514, 518, 521, 525, 531, 535, 536, 538, 542, 547, 550, 554, 560, 563, 583, 585, 588, 602, 603, 603, 606, 615, 615, 625, 628, 629, 631, 631, 633, 644, 645, 645, 662, 668, 672, 674, 674]\n"
     ]
    }
   ],
   "source": [
    "# make dict of data by dog id\n",
    "dogs = {}\n",
    "for dog in blob[\"dogs\"]:\n",
    "    id = dog[\"id\"]\n",
    "    dog[\"dog_status\"] = dog[\"dog_status\"].encode('utf8')\n",
    "    dogs[id] = dog\n",
    "    dogs[id][\"days\"] = []\n",
    "\n",
    "# copy day info to dogs\n",
    "# filter days for minimum percentage\n",
    "MIN_DAY_PERCENT = 75\n",
    "MIN_DAY_MINUTES = int(DAY_MINS * float(MIN_DAY_PERCENT)/100)\n",
    "print \"Filtering to contain at least %d mins (~%d%%).\" %\\\n",
    "    (MIN_DAY_MINUTES, MIN_DAY_PERCENT)\n",
    "print \"\"\n",
    "days_removed = {id:0 for id in dogs}\n",
    "for day in blob[\"days\"]:\n",
    "    date = day[\"date\"]\n",
    "    for day_data in day[\"dogs\"]:\n",
    "        id = day_data[\"id\"]\n",
    "        # check if day is below threshold and add or remove\n",
    "        if day_data[\"total\"] < MIN_DAY_MINUTES:\n",
    "            # remove the day from the totals\n",
    "            dog[\"awake\"] -= day_data[\"awake\"]\n",
    "            dog[\"active\"] -= day_data[\"active\"]\n",
    "            dog[\"rest\"] -= day_data[\"rest\"]\n",
    "            dog[\"total\"] -= day_data[\"total\"]\n",
    "            # note how many days were removed for this dog\n",
    "            days_removed[id] += 1\n",
    "        else:\n",
    "            # copy day over\n",
    "            dogs[id][\"days\"].append(day_data)\n",
    "            dogs[id][\"days\"][-1][\"date\"] = date\n",
    "print \"Average days removed: %d\" % \\\n",
    "    (np.mean([v for v in days_removed.values()]))            \n",
    "print \"Number of days after filtering least to most:\"\n",
    "print_bar()\n",
    "print sorted([len(dogs[id][\"days\"]) for id in dogs])"
   ]
  },
  {
   "cell_type": "code",
   "execution_count": 5,
   "metadata": {
    "collapsed": false,
    "deletable": true,
    "editable": true
   },
   "outputs": [
    {
     "name": "stdout",
     "output_type": "stream",
     "text": [
      "Minute Totals:\n",
      "----------------------------------------------------------------------\n",
      "      Mean: 553413.701613 (mins), 384.315071 (days),  54.902153 (weeks)\n",
      "   Std-Dev: 465861.619433 (mins), 323.515013 (days),  46.216430 (weeks)\n",
      "Bottom 10%: 122765.000000 (mins),  85.000000 (days),  12.000000 (weeks)\n",
      "Mean - Std: 87552.082180 (mins),  60.800057 (days),   8.685722 (weeks)\n",
      "----------------------------------------------------------------------\n"
     ]
    }
   ],
   "source": [
    "# get and sort all totals for analysis\n",
    "totals = sorted([dog[\"total\"] for dog in blob[\"dogs\"]])\n",
    "print \"Minute Totals:\"\n",
    "print_bar()\n",
    "total_mean = np.mean(totals)\n",
    "total_std = np.std(totals)\n",
    "total_ten_pct = totals[int(len(totals)*.1)]\n",
    "# print helper\n",
    "def print_value_days_weeks(name, value):\n",
    "    print \"%10s: %10f (mins), %10f (days), %10f (weeks)\" %\\\n",
    "        (name, value, value/DAY_MINS, value/DAY_MINS/7)\n",
    "print_value_days_weeks(\"Mean\", total_mean)\n",
    "print_value_days_weeks(\"Std-Dev\", total_std)\n",
    "print_value_days_weeks(\"Bottom 10%\", total_ten_pct)\n",
    "print_value_days_weeks(\"Mean - Std\", total_mean - total_std)\n",
    "print_bar()"
   ]
  },
  {
   "cell_type": "code",
   "execution_count": 6,
   "metadata": {
    "collapsed": false,
    "deletable": true,
    "editable": true
   },
   "outputs": [
    {
     "name": "stdout",
     "output_type": "stream",
     "text": [
      "Number of dogs below threshold: 25\n",
      "      Number of remaining dogs: 99\n",
      "----------------------------------------------------------------------\n",
      "Outcome:   'Active Breeder'   =>   4 dogs removed.\n",
      "Outcome:    'Unkown Status'   =>   7 dogs removed.\n",
      "Outcome:  'Active Grad Dog'   =>   8 dogs removed.\n",
      "Outcome:     'Released Dog'   =>   6 dogs removed.\n"
     ]
    }
   ],
   "source": [
    "# filter to have at least 1/2 year of valid days\n",
    "total_threshold = 26 * 7\n",
    "\n",
    "filtered_dogs = {}\n",
    "removed_dogs_by_outcome = defaultdict(list)\n",
    "for k, v in dogs.iteritems():\n",
    "    if len(v[\"days\"]) >= total_threshold:\n",
    "        filtered_dogs[k] = deepcopy(v)\n",
    "    else:\n",
    "        status = v[\"dog_status\"]\n",
    "        if not status: status = \"Unkown Status\"\n",
    "        removed_dogs_by_outcome[status].append(v)\n",
    "\n",
    "num_below_threshold = len(dogs) - len(filtered_dogs)\n",
    "\n",
    "print \"Number of dogs below threshold: %d\" % (num_below_threshold)\n",
    "print \"      Number of remaining dogs: %d\" % (len(filtered_dogs))\n",
    "\n",
    "print_bar()\n",
    "\n",
    "for k, v in removed_dogs_by_outcome.iteritems():\n",
    "    print \"Outcome: %18s   => %3d dogs removed.\" % (\"'\"+k+\"'\", len(v))"
   ]
  },
  {
   "cell_type": "markdown",
   "metadata": {
    "deletable": true,
    "editable": true
   },
   "source": [
    "## Analyze Data"
   ]
  },
  {
   "cell_type": "code",
   "execution_count": 15,
   "metadata": {
    "collapsed": false,
    "deletable": true,
    "editable": true
   },
   "outputs": [
    {
     "name": "stdout",
     "output_type": "stream",
     "text": [
      "Outcomes:\n",
      "----------------------------------------------------------------------\n",
      "     Outcome:  Active Breeder\n",
      "    num_dogs:   6.000000\n",
      " active_mean:   6.506023\n",
      "  active_std:   0.941661\n",
      "  awake_mean:  31.926973\n",
      "   awake_std:   1.894497\n",
      "   rest_mean:  61.567003\n",
      "    rest_std:   1.614238\n",
      "          tf: -65.881176\n",
      "         dof:   8.049775\n",
      "          pf:   0.000000\n",
      "2.7399079693e-12\n",
      "----------------------------------------------------------------------\n",
      "     Outcome:  Active Grad Dog\n",
      "    num_dogs:  44.000000\n",
      " active_mean:   6.767613\n",
      "  active_std:   2.060211\n",
      "  awake_mean:  31.866944\n",
      "   awake_std:   2.725910\n",
      "   rest_mean:  61.365442\n",
      "    rest_std:   3.601427\n",
      "          tf: -86.289768\n",
      "         dof:  68.420826\n",
      "          pf:   0.000000\n",
      "1.4838929957e-71\n",
      "----------------------------------------------------------------------\n",
      "     Outcome:  Advanced Training\n",
      "    num_dogs:   5.000000\n",
      " active_mean:   6.840871\n",
      "  active_std:   0.740723\n",
      "  awake_mean:  31.235784\n",
      "   awake_std:   2.427425\n",
      "   rest_mean:  61.923345\n",
      "    rest_std:   2.846792\n",
      "          tf: -37.450938\n",
      "         dof:   4.539143\n",
      "          pf:   0.000001\n",
      "7.86857728311e-07\n",
      "----------------------------------------------------------------------\n",
      "     Outcome:  Released Dog\n",
      "    num_dogs:  38.000000\n",
      " active_mean:   6.615200\n",
      "  active_std:   2.011304\n",
      "  awake_mean:  32.216395\n",
      "   awake_std:   2.959747\n",
      "   rest_mean:  61.168405\n",
      "    rest_std:   3.416210\n",
      "          tf: -83.705194\n",
      "         dof:  59.899233\n",
      "          pf:   0.000000\n",
      "9.20813878479e-64\n",
      "----------------------------------------------------------------------\n",
      "     Outcome:  Unknown Status\n",
      "    num_dogs:   6.000000\n",
      " active_mean:   8.263106\n",
      "  active_std:   2.618302\n",
      "  awake_mean:  31.981450\n",
      "   awake_std:   3.757962\n",
      "   rest_mean:  59.755444\n",
      "    rest_std:   6.020231\n",
      "          tf: -17.538628\n",
      "         dof:   6.826191\n",
      "          pf:   0.000001\n",
      "6.24489076253e-07\n",
      "----------------------------------------------------------------------\n"
     ]
    }
   ],
   "source": [
    "# first put the dog data into buckets by outcome\n",
    "dogs_by_outcome = defaultdict(list)\n",
    "for dog in filtered_dogs.itervalues():\n",
    "    status = dog[\"dog_status\"]\n",
    "    if status == \"\":\n",
    "        status = \"Unknown Status\"\n",
    "    dogs_by_outcome[status].append(dog)\n",
    "\n",
    "# create alphabetically sorted set of possible outcomes\n",
    "outcomes = sorted(dogs_by_outcome.keys())\n",
    "\n",
    "print \"Outcomes:\"\n",
    "print_bar()\n",
    "\n",
    "# analyze dogs by outcome\n",
    "results_by_outcome = {}\n",
    "for outcome in outcomes:\n",
    "    results = OrderedDict()\n",
    "    results[\"outcome\"] = outcome,\n",
    "    results[\"dogs\"] = []\n",
    "    # convert to percentages instead of totals\n",
    "    for dog in dogs_by_outcome[outcome]:\n",
    "        total = dog[\"total\"]\n",
    "        dog[\"active%\"] = float(dog[\"active\"]) / total * 100\n",
    "        dog[\"rest%\"] = float(dog[\"rest\"]) / total * 100\n",
    "        dog[\"awake%\"] = float(dog[\"awake\"]) / total * 100\n",
    "        results[\"dogs\"].append(dog)\n",
    "    # compute means over outcome\n",
    "    active = [v[\"active%\"] for v in results[\"dogs\"]]\n",
    "    awake = [v[\"awake%\"] for v in results[\"dogs\"]]\n",
    "    rest = [v[\"rest%\"] for v in results[\"dogs\"]]\n",
    "    results[\"num_dogs\"] = len(active)\n",
    "    results[\"active_mean\"] = np.mean(active)\n",
    "    results[\"active_std\"] = np.std(active)\n",
    "    results[\"awake_mean\"] = np.mean(awake)\n",
    "    results[\"awake_std\"] = np.std(awake)\n",
    "    results[\"rest_mean\"] = np.mean(rest)\n",
    "    results[\"rest_std\"] = np.std(rest)\n",
    "\n",
    "    #two sample t-test\n",
    "    a = active\n",
    "    b = rest\n",
    "    a_bar = np.mean(active)\n",
    "    a_var = np.var(active,ddof=1)\n",
    "    a_n = np.size(active)\n",
    "    a_dof = a_n - 1\n",
    "\n",
    "    b_bar = np.mean(rest)\n",
    "    b_var = np.var(rest,ddof=1)\n",
    "    b_n = np.size(rest)\n",
    "    b_dof = b_n - 1\n",
    "\n",
    "    tf = (a_bar - b_bar) / np.sqrt(a_var/a_n + b_var/b_n)\n",
    "    results[\"tf\"] = tf\n",
    "    dof = (a_var/a_n + b_var/b_n)**2 / (a_var**2/(a_n**2*a_dof) + b_var**2/(b_n**2*b_dof))\n",
    "    results[\"dof\"] = dof\n",
    "    results[\"pf\"] = 2*stdtr(dof, -np.abs(tf))\n",
    "\n",
    "    # print results for outcome\n",
    "    print \"     Outcome:  \" + outcome\n",
    "    for key in results.keys():\n",
    "        if key not in [\"dogs\", \"outcome\"]:\n",
    "            print \"%12s: %10f\" % (key, results[key])\n",
    "    print results[\"pf\"]\n",
    "    print_bar()\n",
    "    results_by_outcome[outcome] = results"
   ]
  },
  {
   "cell_type": "code",
   "execution_count": 16,
   "metadata": {
    "collapsed": false,
    "deletable": true,
    "editable": true
   },
   "outputs": [
    {
     "name": "stdout",
     "output_type": "stream",
     "text": [
      "Active / Released (Active Grad Dog or Active Breeder / Released Dog):\n",
      "----------------------------------------------------------------------\n",
      "     Outcome:  Active\n",
      "    num_dogs:  50.000000\n",
      " active_mean:   6.736223\n",
      "  active_std:   1.961827\n",
      "  awake_mean:  31.874148\n",
      "   awake_std:   2.640074\n",
      "   rest_mean:  61.389630\n",
      "    rest_std:   3.425029\n",
      "          tf: -96.925323\n",
      "         dof:  78.028135\n",
      "          pf:   0.000000\n",
      "4.38984465172e-83\n",
      "----------------------------------------------------------------------\n",
      "     Outcome:  Released\n",
      "    num_dogs:  38.000000\n",
      " active_mean:   6.615200\n",
      "  active_std:   2.011304\n",
      "  awake_mean:  32.216395\n",
      "   awake_std:   2.959747\n",
      "   rest_mean:  61.168405\n",
      "    rest_std:   3.416210\n",
      "          tf: -83.705194\n",
      "         dof:  59.899233\n",
      "          pf:   0.000000\n",
      "9.20813878479e-64\n",
      "----------------------------------------------------------------------\n"
     ]
    }
   ],
   "source": [
    "# same as above but only with succes/failed statuses\n",
    "print \"Active / Released (Active Grad Dog or Active Breeder / Released Dog):\"\n",
    "print_bar()\n",
    "results_by_success = {}\n",
    "for outcome, results in results_by_outcome.iteritems():\n",
    "    # skip dogs we don't have a final result for\n",
    "    if outcome in [\"Unknown Status\", \"Advanced Training\"]:\n",
    "        continue\n",
    "    # combine successes\n",
    "    elif outcome in [\"Active Grad Dog\", \"Active Breeder\"]:\n",
    "        outcome = \"Active\"\n",
    "    elif outcome in [\"Released Dog\"]:\n",
    "        outcome = \"Released\"\n",
    "    if not outcome in results_by_success:\n",
    "        results_by_success[outcome] = results\n",
    "    else:\n",
    "        _results = results_by_success[outcome]\n",
    "        _results[\"dogs\"].extend(results[\"dogs\"])\n",
    "        active = [v[\"active%\"] for v in _results[\"dogs\"]]\n",
    "        awake = [v[\"awake%\"] for v in _results[\"dogs\"]]\n",
    "        rest = [v[\"rest%\"] for v in _results[\"dogs\"]]\n",
    "        _results[\"num_dogs\"] = len(active)\n",
    "        _results[\"active_mean\"] = np.mean(active)\n",
    "        _results[\"active_std\"] = np.std(active)\n",
    "        _results[\"awake_mean\"] = np.mean(awake)\n",
    "        _results[\"awake_std\"] = np.std(awake)\n",
    "        _results[\"rest_mean\"] = np.mean(rest)\n",
    "        _results[\"rest_std\"] = np.std(rest)\n",
    "        \n",
    "        #two sample t-test\n",
    "        a = active\n",
    "        b = rest\n",
    "        a_bar = np.mean(active)\n",
    "        a_var = np.var(active,ddof=1)\n",
    "        a_n = np.size(active)\n",
    "        a_dof = a_n - 1\n",
    "\n",
    "        b_bar = np.mean(rest)\n",
    "        b_var = np.var(rest,ddof=1)\n",
    "        b_n = np.size(rest)\n",
    "        b_dof = b_n - 1\n",
    "\n",
    "        tf = (a_bar - b_bar) / np.sqrt(a_var/a_n + b_var/b_n)\n",
    "        _results[\"tf\"] = tf\n",
    "        dof = (a_var/a_n + b_var/b_n)**2 / (a_var**2/(a_n**2*a_dof) + b_var**2/(b_n**2*b_dof))\n",
    "        _results[\"dof\"] = dof\n",
    "        _results[\"pf\"] = 2*stdtr(dof, -np.abs(tf))\n",
    "\n",
    "for outcome, results in results_by_success.iteritems():\n",
    "    # print results for outcome\n",
    "    print \"     Outcome:  \" + outcome\n",
    "    for key in results.keys():\n",
    "        if key not in [\"dogs\", \"outcome\"]:\n",
    "            print \"%12s: %10f\" % (key, results[key])\n",
    "    print results[\"pf\"]\n",
    "    print_bar()"
   ]
  },
  {
   "cell_type": "code",
   "execution_count": 9,
   "metadata": {
    "collapsed": false,
    "deletable": true,
    "editable": true,
    "scrolled": false
   },
   "outputs": [
    {
     "name": "stderr",
     "output_type": "stream",
     "text": [
      "/System/Library/Frameworks/Python.framework/Versions/2.7/Extras/lib/python/matplotlib/tight_layout.py:225: UserWarning: tight_layout : falling back to Agg renderer\n",
      "  warnings.warn(\"tight_layout : falling back to Agg renderer\")\n"
     ]
    }
   ],
   "source": [
    "# convert to plottable sets by outcome\n",
    "ids = []\n",
    "id_to_outcome = {}\n",
    "scatter_success = {outcome:[[], []] for outcome in results_by_success.keys()}\n",
    "for outcome, results in results_by_success.iteritems():\n",
    "    for dog in results[\"dogs\"]:\n",
    "        ids.append(dog[\"id\"])\n",
    "        id_to_outcome[dog[\"id\"]] = outcome\n",
    "        scatter_success[outcome][0].append(dog[\"awake%\"])\n",
    "        scatter_success[outcome][1].append(dog[\"rest%\"])\n",
    "\n",
    "# plot\n",
    "fig = plt.gcf()\n",
    "ax1 = fig.add_subplot(111)\n",
    "ax1.set_xlabel(\"total time awake / total time recorded * 100\")\n",
    "ax1.set_ylabel(\"total time rest / total time recorded * 100\")\n",
    "ax1.set_title(\"Awake% vs. Rest% for Active Dogs & Released Dogs\")\n",
    "colors = {\n",
    "    \"Active\":\"g\",\n",
    "    \"Released\":\"r\"\n",
    "}\n",
    "for outcome, xy in scatter_success.items()[::-1]:\n",
    "    x,y = xy[0], xy[1]\n",
    "    col = colors[outcome]\n",
    "    plt.scatter(x, y, c=col, label=outcome)\n",
    "    # plot regression line\n",
    "    coeff = np.polyfit(x, y, 1)\n",
    "    p = np.poly1d(coeff)\n",
    "    y_fit = p(x)\n",
    "    y_bar = np.sum(y)/len(y)\n",
    "    ssreg = np.sum((y_fit-y_bar)**2)\n",
    "    sstot = np.sum((y - y_bar)**2)\n",
    "    rs = ssreg / sstot\n",
    "    label = 'y = %f * x + %f  R^2 = %f' % (coeff[0], coeff[1], rs)\n",
    "    ax1.plot(x, y_fit, color=col, label=label)\n",
    "plt.legend(loc='upper right')\n",
    "plt.tight_layout()\n",
    "plt.show()\n",
    "\n",
    "y_lim, x_lim = ax1.get_ylim(), ax1.get_xlim()\n",
    "\n",
    "# individual plots\n",
    "i = 1\n",
    "for outcome, xy in scatter_success.items()[::-1]:\n",
    "    i += 1\n",
    "    ax1 = plt.figure().add_subplot(111)\n",
    "    ax1.set_xlabel(\"total time awake / total time recorded * 100\")\n",
    "    ax1.set_ylabel(\"total time rest / total time recorded * 100\")\n",
    "    ax1.set_title(\"Awake%% vs. Rest%% for %s Dogs\"%outcome)\n",
    "    x,y = xy[0], xy[1]\n",
    "    col = colors[outcome]\n",
    "    plt.scatter(x, y, c=col, label=outcome)\n",
    "    # plot regression line\n",
    "    coeff = np.polyfit(x, y, 1)\n",
    "    p = np.poly1d(coeff)\n",
    "    y_fit = p(x)\n",
    "    y_bar = np.sum(y)/len(y)\n",
    "    ssreg = np.sum((y_fit-y_bar)**2)\n",
    "    sstot = np.sum((y - y_bar)**2)\n",
    "    rs = ssreg / sstot\n",
    "    label = 'y = %f * x + %f  R^2 = %f' % (coeff[0], coeff[1], rs)\n",
    "    ax1.plot(x, y_fit, color=col, label=label)\n",
    "    ax1.set_ylim(y_lim)\n",
    "    ax1.set_xlim(x_lim)\n",
    "    plt.legend(loc='upper right')\n",
    "    plt.tight_layout()\n",
    "    plt.show()\n"
   ]
  },
  {
   "cell_type": "code",
   "execution_count": 13,
   "metadata": {
    "collapsed": false,
    "deletable": true,
    "editable": true
   },
   "outputs": [
    {
     "name": "stdout",
     "output_type": "stream",
     "text": [
      "()\n"
     ]
    }
   ],
   "source": [
    "\"\"\"\n",
    "ids = []\n",
    "id_to_outcome = {}\n",
    "cluster_data = []\n",
    "scatter_outcome = {outcome:[[], []] for outcome in results_by_outcome.keys()}\n",
    "for outcome, results in results_by_outcome.iteritems():\n",
    "    for dog in results[\"dogs\"]:\n",
    "        ids.append(dog[\"id\"])\n",
    "        id_to_outcome[dog[\"id\"]] = outcome\n",
    "        cluster_data.append([dog[\"rest%\"], dog[\"awake%\"]])\n",
    "        scatter_outcome[outcome][0].append(dog[\"awake%\"])\n",
    "        scatter_outcome[outcome][1].append(dog[\"rest%\"])\n",
    "\n",
    "ax1 = plt.figure().add_subplot(111)\n",
    "ax1.set_xlabel(\"total time awake / total time recorded * 100\")\n",
    "ax1.set_ylabel(\"total time rest / total time recorded * 100\")\n",
    "colors = {\n",
    "    \"Active Breeder\":\"b\",\n",
    "    \"Active Grad Dog\": \"g\",\n",
    "    \"Released Dog\":\"r\",\n",
    "    \"Advanced Training\": \"y\",\n",
    "    \"Unknown Status\": \"k\"\n",
    "}\n",
    "xs = []\n",
    "ys = []\n",
    "for outcome, xy in scatter_outcome.iteritems():\n",
    "    x,y = xy[0], xy[1]\n",
    "    xs.append(x)\n",
    "    ys.append(y)\n",
    "    plt.scatter(x, y, c=colors[outcome], label=outcome)\n",
    "plt.legend(loc='upper right');\n",
    "plt.tight_layout()\n",
    "plt.show()  \n",
    "\"\"\"\n",
    "print()"
   ]
  },
  {
   "cell_type": "code",
   "execution_count": 9,
   "metadata": {
    "collapsed": false
   },
   "outputs": [
    {
     "name": "stdout",
     "output_type": "stream",
     "text": [
      "student's two sample t-test: t = -96.7476  p = 5.05974e-83\n"
     ]
    }
   ],
   "source": [
    "#two sample t-test\n",
    "\n",
    "a = active\n",
    "b = rest\n",
    "a_bar = results[\"active_mean\"]\n",
    "a_var = np.var(a,ddof=1)\n",
    "a_n = np.size(a)\n",
    "a_dof = a_n - 1\n",
    "\n",
    "b_bar = results[\"rest_mean\"]\n",
    "b_var = np.var(b,ddof=1)\n",
    "b_n = np.size(b)\n",
    "b_dof = b_n - 1\n",
    "\n",
    "tf = (a_bar - b_bar) / np.sqrt(a_var/a_n + b_var/b_n)\n",
    "dof = (a_var/a_n + b_var/b_n)**2 / (a_var**2/(a_n**2*a_dof) + b_var**2/(b_n**2*b_dof))\n",
    "pf = 2*stdtr(dof, -np.abs(tf))\n",
    "\n",
    "print(\"student's two sample t-test: t = %g  p = %g\" % (tf, pf))"
   ]
  },
  {
   "cell_type": "code",
   "execution_count": null,
   "metadata": {
    "collapsed": true
   },
   "outputs": [],
   "source": []
  }
 ],
 "metadata": {
  "kernelspec": {
   "display_name": "Python 2",
   "language": "python",
   "name": "python2"
  },
  "language_info": {
   "codemirror_mode": {
    "name": "ipython",
    "version": 2
   },
   "file_extension": ".py",
   "mimetype": "text/x-python",
   "name": "python",
   "nbconvert_exporter": "python",
   "pygments_lexer": "ipython2",
   "version": "2.7.10"
  }
 },
 "nbformat": 4,
 "nbformat_minor": 2
}
